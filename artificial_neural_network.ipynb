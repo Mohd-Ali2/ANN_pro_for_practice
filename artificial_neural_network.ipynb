{
 "cells": [
  {
   "cell_type": "code",
   "execution_count": 161,
   "metadata": {},
   "outputs": [],
   "source": [
    "import numpy as np \n",
    "import pandas as pd \n",
    "import tensorflow as tf "
   ]
  },
  {
   "cell_type": "code",
   "execution_count": 162,
   "metadata": {},
   "outputs": [
    {
     "data": {
      "text/plain": [
       "'2.8.0'"
      ]
     },
     "execution_count": 162,
     "metadata": {},
     "output_type": "execute_result"
    }
   ],
   "source": [
    "tf.__version__"
   ]
  },
  {
   "cell_type": "code",
   "execution_count": 163,
   "metadata": {},
   "outputs": [],
   "source": [
    "df = pd.read_csv(\"Churn_Modelling.csv\")"
   ]
  },
  {
   "cell_type": "code",
   "execution_count": 164,
   "metadata": {},
   "outputs": [],
   "source": [
    "x = df.iloc[:, 3:-1].values\n",
    "y = df.iloc[:, -1].values"
   ]
  },
  {
   "cell_type": "code",
   "execution_count": 165,
   "metadata": {},
   "outputs": [
    {
     "name": "stdout",
     "output_type": "stream",
     "text": [
      "[[619 'France' 'Female' ... 1 1 101348.88]\n",
      " [608 'Spain' 'Female' ... 0 1 112542.58]\n",
      " [502 'France' 'Female' ... 1 0 113931.57]\n",
      " ...\n",
      " [709 'France' 'Female' ... 0 1 42085.58]\n",
      " [772 'Germany' 'Male' ... 1 0 92888.52]\n",
      " [792 'France' 'Female' ... 1 0 38190.78]]\n"
     ]
    }
   ],
   "source": [
    "print(x)"
   ]
  },
  {
   "cell_type": "code",
   "execution_count": 166,
   "metadata": {},
   "outputs": [
    {
     "name": "stdout",
     "output_type": "stream",
     "text": [
      "[1 0 1 ... 1 1 0]\n"
     ]
    }
   ],
   "source": [
    "print(y)"
   ]
  },
  {
   "cell_type": "code",
   "execution_count": 167,
   "metadata": {},
   "outputs": [],
   "source": [
    "from sklearn.preprocessing import LabelEncoder\n",
    "le = LabelEncoder()\n",
    "x[:, 2] = le.fit_transform(x[:, 2])"
   ]
  },
  {
   "cell_type": "code",
   "execution_count": 168,
   "metadata": {},
   "outputs": [
    {
     "name": "stdout",
     "output_type": "stream",
     "text": [
      "[[619 'France' 0 ... 1 1 101348.88]\n",
      " [608 'Spain' 0 ... 0 1 112542.58]\n",
      " [502 'France' 0 ... 1 0 113931.57]\n",
      " ...\n",
      " [709 'France' 0 ... 0 1 42085.58]\n",
      " [772 'Germany' 1 ... 1 0 92888.52]\n",
      " [792 'France' 0 ... 1 0 38190.78]]\n"
     ]
    }
   ],
   "source": [
    "print(x)"
   ]
  },
  {
   "cell_type": "code",
   "execution_count": 169,
   "metadata": {},
   "outputs": [],
   "source": [
    "from sklearn.compose import ColumnTransformer\n",
    "from sklearn.preprocessing import OneHotEncoder\n",
    "ct = ColumnTransformer(transformers=[('encoder', OneHotEncoder(), [1])], remainder='passthrough')\n",
    "x = np.array(ct.fit_transform(x))"
   ]
  },
  {
   "cell_type": "code",
   "execution_count": 170,
   "metadata": {},
   "outputs": [
    {
     "name": "stdout",
     "output_type": "stream",
     "text": [
      "[[1.0 0.0 0.0 ... 1 1 101348.88]\n",
      " [0.0 0.0 1.0 ... 0 1 112542.58]\n",
      " [1.0 0.0 0.0 ... 1 0 113931.57]\n",
      " ...\n",
      " [1.0 0.0 0.0 ... 0 1 42085.58]\n",
      " [0.0 1.0 0.0 ... 1 0 92888.52]\n",
      " [1.0 0.0 0.0 ... 1 0 38190.78]]\n"
     ]
    }
   ],
   "source": [
    "print(x)"
   ]
  },
  {
   "cell_type": "code",
   "execution_count": 171,
   "metadata": {},
   "outputs": [],
   "source": [
    "from sklearn.model_selection import train_test_split\n",
    "x_train, x_test, y_train, y_test = train_test_split(x, y, test_size=0.2, random_state=42)"
   ]
  },
  {
   "cell_type": "code",
   "execution_count": 172,
   "metadata": {},
   "outputs": [],
   "source": [
    "from sklearn.preprocessing import StandardScaler\n",
    "sc = StandardScaler()\n",
    "x_train = sc.fit_transform(x_train)\n",
    "x_test = sc.fit_transform(x_test)"
   ]
  },
  {
   "cell_type": "code",
   "execution_count": 173,
   "metadata": {},
   "outputs": [],
   "source": [
    "ann = tf.keras.models.Sequential()"
   ]
  },
  {
   "cell_type": "code",
   "execution_count": 174,
   "metadata": {},
   "outputs": [],
   "source": [
    "ann.add(tf.keras.layers.Dense(units=7, activation='relu'))"
   ]
  },
  {
   "cell_type": "code",
   "execution_count": 175,
   "metadata": {},
   "outputs": [],
   "source": [
    "ann.add(tf.keras.layers.Dense(units=7, activation='relu'))"
   ]
  },
  {
   "cell_type": "code",
   "execution_count": 176,
   "metadata": {},
   "outputs": [],
   "source": [
    "ann.add(tf.keras.layers.Dense(units=1, activation='sigmoid'))"
   ]
  },
  {
   "cell_type": "code",
   "execution_count": 177,
   "metadata": {},
   "outputs": [],
   "source": [
    "ann.compile(optimizer='adam', loss = 'binary_crossentropy', metrics=['accuracy'])"
   ]
  },
  {
   "cell_type": "code",
   "execution_count": 178,
   "metadata": {},
   "outputs": [
    {
     "name": "stdout",
     "output_type": "stream",
     "text": [
      "Epoch 1/100\n"
     ]
    },
    {
     "name": "stdout",
     "output_type": "stream",
     "text": [
      "250/250 [==============================] - 1s 823us/step - loss: 0.6387 - accuracy: 0.6519\n",
      "Epoch 2/100\n",
      "250/250 [==============================] - 0s 656us/step - loss: 0.4756 - accuracy: 0.7966\n",
      "Epoch 3/100\n",
      "250/250 [==============================] - 0s 625us/step - loss: 0.4498 - accuracy: 0.8029\n",
      "Epoch 4/100\n",
      "250/250 [==============================] - 0s 592us/step - loss: 0.4397 - accuracy: 0.8046\n",
      "Epoch 5/100\n",
      "250/250 [==============================] - 0s 581us/step - loss: 0.4333 - accuracy: 0.8045\n",
      "Epoch 6/100\n",
      "250/250 [==============================] - 0s 589us/step - loss: 0.4276 - accuracy: 0.8049\n",
      "Epoch 7/100\n",
      "250/250 [==============================] - 0s 581us/step - loss: 0.4232 - accuracy: 0.8077\n",
      "Epoch 8/100\n",
      "250/250 [==============================] - 0s 576us/step - loss: 0.4195 - accuracy: 0.8089\n",
      "Epoch 9/100\n",
      "250/250 [==============================] - 0s 565us/step - loss: 0.4143 - accuracy: 0.8095\n",
      "Epoch 10/100\n",
      "250/250 [==============================] - 0s 562us/step - loss: 0.4051 - accuracy: 0.8259\n",
      "Epoch 11/100\n",
      "250/250 [==============================] - 0s 570us/step - loss: 0.3937 - accuracy: 0.8321\n",
      "Epoch 12/100\n",
      "250/250 [==============================] - 0s 572us/step - loss: 0.3813 - accuracy: 0.8374\n",
      "Epoch 13/100\n",
      "250/250 [==============================] - 0s 572us/step - loss: 0.3697 - accuracy: 0.8469\n",
      "Epoch 14/100\n",
      "250/250 [==============================] - 0s 574us/step - loss: 0.3609 - accuracy: 0.8525\n",
      "Epoch 15/100\n",
      "250/250 [==============================] - 0s 583us/step - loss: 0.3546 - accuracy: 0.8569\n",
      "Epoch 16/100\n",
      "250/250 [==============================] - 0s 587us/step - loss: 0.3494 - accuracy: 0.8579\n",
      "Epoch 17/100\n",
      "250/250 [==============================] - 0s 570us/step - loss: 0.3463 - accuracy: 0.8608\n",
      "Epoch 18/100\n",
      "250/250 [==============================] - 0s 578us/step - loss: 0.3440 - accuracy: 0.8599\n",
      "Epoch 19/100\n",
      "250/250 [==============================] - 0s 584us/step - loss: 0.3428 - accuracy: 0.8601\n",
      "Epoch 20/100\n",
      "250/250 [==============================] - 0s 564us/step - loss: 0.3411 - accuracy: 0.8604\n",
      "Epoch 21/100\n",
      "250/250 [==============================] - 0s 580us/step - loss: 0.3401 - accuracy: 0.8597\n",
      "Epoch 22/100\n",
      "250/250 [==============================] - 0s 567us/step - loss: 0.3394 - accuracy: 0.8586\n",
      "Epoch 23/100\n",
      "250/250 [==============================] - 0s 568us/step - loss: 0.3382 - accuracy: 0.8602\n",
      "Epoch 24/100\n",
      "250/250 [==============================] - 0s 575us/step - loss: 0.3376 - accuracy: 0.8600\n",
      "Epoch 25/100\n",
      "250/250 [==============================] - 0s 575us/step - loss: 0.3372 - accuracy: 0.8591\n",
      "Epoch 26/100\n",
      "250/250 [==============================] - 0s 575us/step - loss: 0.3364 - accuracy: 0.8577\n",
      "Epoch 27/100\n",
      "250/250 [==============================] - 0s 616us/step - loss: 0.3360 - accuracy: 0.8585\n",
      "Epoch 28/100\n",
      "250/250 [==============================] - 0s 587us/step - loss: 0.3352 - accuracy: 0.8599\n",
      "Epoch 29/100\n",
      "250/250 [==============================] - 0s 571us/step - loss: 0.3348 - accuracy: 0.8591\n",
      "Epoch 30/100\n",
      "250/250 [==============================] - 0s 575us/step - loss: 0.3341 - accuracy: 0.8608\n",
      "Epoch 31/100\n",
      "250/250 [==============================] - 0s 568us/step - loss: 0.3338 - accuracy: 0.8605\n",
      "Epoch 32/100\n",
      "250/250 [==============================] - 0s 577us/step - loss: 0.3336 - accuracy: 0.8620\n",
      "Epoch 33/100\n",
      "250/250 [==============================] - 0s 579us/step - loss: 0.3330 - accuracy: 0.8614\n",
      "Epoch 34/100\n",
      "250/250 [==============================] - 0s 571us/step - loss: 0.3327 - accuracy: 0.8621\n",
      "Epoch 35/100\n",
      "250/250 [==============================] - 0s 564us/step - loss: 0.3324 - accuracy: 0.8612\n",
      "Epoch 36/100\n",
      "250/250 [==============================] - 0s 563us/step - loss: 0.3321 - accuracy: 0.8615\n",
      "Epoch 37/100\n",
      "250/250 [==============================] - 0s 579us/step - loss: 0.3321 - accuracy: 0.8622\n",
      "Epoch 38/100\n",
      "250/250 [==============================] - 0s 573us/step - loss: 0.3323 - accuracy: 0.8624\n",
      "Epoch 39/100\n",
      "250/250 [==============================] - 0s 575us/step - loss: 0.3314 - accuracy: 0.8605\n",
      "Epoch 40/100\n",
      "250/250 [==============================] - 0s 575us/step - loss: 0.3313 - accuracy: 0.8614\n",
      "Epoch 41/100\n",
      "250/250 [==============================] - 0s 589us/step - loss: 0.3313 - accuracy: 0.8633\n",
      "Epoch 42/100\n",
      "250/250 [==============================] - 0s 611us/step - loss: 0.3310 - accuracy: 0.8620\n",
      "Epoch 43/100\n",
      "250/250 [==============================] - 0s 587us/step - loss: 0.3307 - accuracy: 0.8633\n",
      "Epoch 44/100\n",
      "250/250 [==============================] - 0s 607us/step - loss: 0.3309 - accuracy: 0.8620\n",
      "Epoch 45/100\n",
      "250/250 [==============================] - 0s 663us/step - loss: 0.3305 - accuracy: 0.8630\n",
      "Epoch 46/100\n",
      "250/250 [==============================] - 0s 610us/step - loss: 0.3304 - accuracy: 0.8630\n",
      "Epoch 47/100\n",
      "250/250 [==============================] - 0s 579us/step - loss: 0.3307 - accuracy: 0.8618\n",
      "Epoch 48/100\n",
      "250/250 [==============================] - 0s 578us/step - loss: 0.3301 - accuracy: 0.8626\n",
      "Epoch 49/100\n",
      "250/250 [==============================] - 0s 589us/step - loss: 0.3301 - accuracy: 0.8619\n",
      "Epoch 50/100\n",
      "250/250 [==============================] - 0s 581us/step - loss: 0.3305 - accuracy: 0.8622\n",
      "Epoch 51/100\n",
      "250/250 [==============================] - 0s 576us/step - loss: 0.3297 - accuracy: 0.8641\n",
      "Epoch 52/100\n",
      "250/250 [==============================] - 0s 568us/step - loss: 0.3295 - accuracy: 0.8631\n",
      "Epoch 53/100\n",
      "250/250 [==============================] - 0s 579us/step - loss: 0.3294 - accuracy: 0.8630\n",
      "Epoch 54/100\n",
      "250/250 [==============================] - 0s 584us/step - loss: 0.3295 - accuracy: 0.8645\n",
      "Epoch 55/100\n",
      "250/250 [==============================] - 0s 575us/step - loss: 0.3295 - accuracy: 0.8619\n",
      "Epoch 56/100\n",
      "250/250 [==============================] - 0s 576us/step - loss: 0.3294 - accuracy: 0.8633\n",
      "Epoch 57/100\n",
      "250/250 [==============================] - 0s 579us/step - loss: 0.3291 - accuracy: 0.8614\n",
      "Epoch 58/100\n",
      "250/250 [==============================] - 0s 583us/step - loss: 0.3292 - accuracy: 0.8620\n",
      "Epoch 59/100\n",
      "250/250 [==============================] - 0s 576us/step - loss: 0.3289 - accuracy: 0.8640\n",
      "Epoch 60/100\n",
      "250/250 [==============================] - 0s 573us/step - loss: 0.3289 - accuracy: 0.8644\n",
      "Epoch 61/100\n",
      "250/250 [==============================] - 0s 575us/step - loss: 0.3288 - accuracy: 0.8640\n",
      "Epoch 62/100\n",
      "250/250 [==============================] - 0s 583us/step - loss: 0.3286 - accuracy: 0.8627\n",
      "Epoch 63/100\n",
      "250/250 [==============================] - 0s 586us/step - loss: 0.3285 - accuracy: 0.8633\n",
      "Epoch 64/100\n",
      "250/250 [==============================] - 0s 570us/step - loss: 0.3284 - accuracy: 0.8645\n",
      "Epoch 65/100\n",
      "250/250 [==============================] - 0s 573us/step - loss: 0.3283 - accuracy: 0.8627\n",
      "Epoch 66/100\n",
      "250/250 [==============================] - 0s 578us/step - loss: 0.3284 - accuracy: 0.8637\n",
      "Epoch 67/100\n",
      "250/250 [==============================] - 0s 564us/step - loss: 0.3283 - accuracy: 0.8629\n",
      "Epoch 68/100\n",
      "250/250 [==============================] - 0s 577us/step - loss: 0.3279 - accuracy: 0.8634\n",
      "Epoch 69/100\n",
      "250/250 [==============================] - 0s 574us/step - loss: 0.3280 - accuracy: 0.8645\n",
      "Epoch 70/100\n",
      "250/250 [==============================] - 0s 567us/step - loss: 0.3279 - accuracy: 0.8636\n",
      "Epoch 71/100\n",
      "250/250 [==============================] - 0s 583us/step - loss: 0.3280 - accuracy: 0.8644\n",
      "Epoch 72/100\n",
      "250/250 [==============================] - 0s 560us/step - loss: 0.3274 - accuracy: 0.8631\n",
      "Epoch 73/100\n",
      "250/250 [==============================] - 0s 576us/step - loss: 0.3277 - accuracy: 0.8636\n",
      "Epoch 74/100\n",
      "250/250 [==============================] - 0s 567us/step - loss: 0.3278 - accuracy: 0.8643\n",
      "Epoch 75/100\n",
      "250/250 [==============================] - 0s 583us/step - loss: 0.3277 - accuracy: 0.8636\n",
      "Epoch 76/100\n",
      "250/250 [==============================] - 0s 585us/step - loss: 0.3272 - accuracy: 0.8640\n",
      "Epoch 77/100\n",
      "250/250 [==============================] - 0s 572us/step - loss: 0.3274 - accuracy: 0.8646\n",
      "Epoch 78/100\n",
      "250/250 [==============================] - 0s 582us/step - loss: 0.3273 - accuracy: 0.8645\n",
      "Epoch 79/100\n",
      "250/250 [==============================] - 0s 574us/step - loss: 0.3271 - accuracy: 0.8640\n",
      "Epoch 80/100\n",
      "250/250 [==============================] - 0s 573us/step - loss: 0.3274 - accuracy: 0.8633\n",
      "Epoch 81/100\n",
      "250/250 [==============================] - 0s 577us/step - loss: 0.3269 - accuracy: 0.8651\n",
      "Epoch 82/100\n",
      "250/250 [==============================] - 0s 575us/step - loss: 0.3268 - accuracy: 0.8636\n",
      "Epoch 83/100\n",
      "250/250 [==============================] - 0s 580us/step - loss: 0.3270 - accuracy: 0.8640\n",
      "Epoch 84/100\n",
      "250/250 [==============================] - 0s 560us/step - loss: 0.3270 - accuracy: 0.8655\n",
      "Epoch 85/100\n",
      "250/250 [==============================] - 0s 569us/step - loss: 0.3267 - accuracy: 0.8650\n",
      "Epoch 86/100\n",
      "250/250 [==============================] - 0s 589us/step - loss: 0.3272 - accuracy: 0.8637\n",
      "Epoch 87/100\n",
      "250/250 [==============================] - 0s 579us/step - loss: 0.3267 - accuracy: 0.8648\n",
      "Epoch 88/100\n",
      "250/250 [==============================] - 0s 593us/step - loss: 0.3266 - accuracy: 0.8645\n",
      "Epoch 89/100\n",
      "250/250 [==============================] - 0s 598us/step - loss: 0.3269 - accuracy: 0.8641\n",
      "Epoch 90/100\n",
      "250/250 [==============================] - 0s 590us/step - loss: 0.3266 - accuracy: 0.8633\n",
      "Epoch 91/100\n",
      "250/250 [==============================] - 0s 612us/step - loss: 0.3262 - accuracy: 0.8633\n",
      "Epoch 92/100\n",
      "250/250 [==============================] - 0s 679us/step - loss: 0.3263 - accuracy: 0.8630\n",
      "Epoch 93/100\n",
      "250/250 [==============================] - 0s 633us/step - loss: 0.3268 - accuracy: 0.8646\n",
      "Epoch 94/100\n",
      "250/250 [==============================] - 0s 600us/step - loss: 0.3262 - accuracy: 0.8654\n",
      "Epoch 95/100\n",
      "250/250 [==============================] - 0s 566us/step - loss: 0.3264 - accuracy: 0.8648\n",
      "Epoch 96/100\n",
      "250/250 [==============================] - 0s 564us/step - loss: 0.3262 - accuracy: 0.8639\n",
      "Epoch 97/100\n",
      "250/250 [==============================] - 0s 580us/step - loss: 0.3266 - accuracy: 0.8643\n",
      "Epoch 98/100\n",
      "250/250 [==============================] - 0s 582us/step - loss: 0.3267 - accuracy: 0.8641\n",
      "Epoch 99/100\n",
      "250/250 [==============================] - 0s 591us/step - loss: 0.3260 - accuracy: 0.8648\n",
      "Epoch 100/100\n",
      "250/250 [==============================] - 0s 562us/step - loss: 0.3266 - accuracy: 0.8643\n"
     ]
    },
    {
     "data": {
      "text/plain": [
       "<keras.callbacks.History at 0x78c1106aae30>"
      ]
     },
     "execution_count": 178,
     "metadata": {},
     "output_type": "execute_result"
    }
   ],
   "source": [
    "ann.fit(x_train, y_train, batch_size=32, epochs=100)"
   ]
  },
  {
   "cell_type": "code",
   "execution_count": 179,
   "metadata": {},
   "outputs": [
    {
     "name": "stdout",
     "output_type": "stream",
     "text": [
      "[[False]]\n"
     ]
    }
   ],
   "source": [
    "print(ann.predict(sc.transform([[1, 0, 0, 600, 1, 40, 3, 6000, 2, 1, 1, 50000]])) > 0.5)"
   ]
  },
  {
   "cell_type": "code",
   "execution_count": 180,
   "metadata": {},
   "outputs": [
    {
     "name": "stdout",
     "output_type": "stream",
     "text": [
      "[[0 0]\n",
      " [0 0]\n",
      " [0 0]\n",
      " ...\n",
      " [1 1]\n",
      " [0 1]\n",
      " [0 1]]\n"
     ]
    }
   ],
   "source": [
    "y_pred = ann.predict(x_test)\n",
    "y_pred = (y_pred > 0.5)\n",
    "print(np.concatenate((y_pred.reshape(len(y_pred), 1), y_test.reshape(len(y_test),1)),1))"
   ]
  },
  {
   "cell_type": "code",
   "execution_count": 181,
   "metadata": {},
   "outputs": [
    {
     "name": "stdout",
     "output_type": "stream",
     "text": [
      "[[1537   70]\n",
      " [ 210  183]]\n"
     ]
    },
    {
     "data": {
      "text/plain": [
       "0.86"
      ]
     },
     "execution_count": 181,
     "metadata": {},
     "output_type": "execute_result"
    }
   ],
   "source": [
    "from sklearn.metrics import confusion_matrix, accuracy_score\n",
    "cm = confusion_matrix(y_test, y_pred)\n",
    "print(cm)\n",
    "accuracy_score(y_test, y_pred)"
   ]
  }
 ],
 "metadata": {
  "kernelspec": {
   "display_name": "Python 3",
   "language": "python",
   "name": "python3"
  },
  "language_info": {
   "codemirror_mode": {
    "name": "ipython",
    "version": 3
   },
   "file_extension": ".py",
   "mimetype": "text/x-python",
   "name": "python",
   "nbconvert_exporter": "python",
   "pygments_lexer": "ipython3",
   "version": "3.10.12"
  }
 },
 "nbformat": 4,
 "nbformat_minor": 2
}
